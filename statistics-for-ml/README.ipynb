{
 "cells": [
  {
   "cell_type": "markdown",
   "id": "cf1d7b16",
   "metadata": {},
   "source": [
    "# Statestics for Data Science"
   ]
  },
  {
   "cell_type": "markdown",
   "id": "04c11e47",
   "metadata": {},
   "source": [
    "# Agenda\n",
    "- statestics vs Machine Learning\n",
    "- Type of Statistics\n",
    "    - Descriptive \n",
    "    - Prescriptive\n",
    "    - Predictive\n",
    "- Types of Data\n",
    "- Correlation \n",
    "- Covariance\n",
    "- Introduction to Probability\n",
    "- Conditional Probability with Baye's Theorem\n",
    "- Bell curve and sampling distribution\n",
    "- Normal Distribution\n",
    "- Discriminant Analysis\n",
    "- Binomial Distribution\n",
    "- Poisson Distribution "
   ]
  },
  {
   "cell_type": "markdown",
   "id": "f7a83b45",
   "metadata": {},
   "source": [
    "# Statestics vs Machine learning"
   ]
  },
  {
   "cell_type": "markdown",
   "id": "061faab0",
   "metadata": {},
   "source": [
    "- In statestics we have a problem and the problem is converted to data\n",
    "- In Machine learning you have data and using the data we find a solution for the problem\n",
    "- A statestician is paid to collect data\n",
    "- A data scientist is paid mony to analyze data"
   ]
  },
  {
   "cell_type": "markdown",
   "id": "e73246e5",
   "metadata": {},
   "source": [
    "### Types of statestics\n",
    "- Descriptive\n",
    "- Predictive\n",
    "- Perspective"
   ]
  },
  {
   "cell_type": "code",
   "execution_count": null,
   "id": "6da2115f",
   "metadata": {},
   "outputs": [],
   "source": []
  },
  {
   "cell_type": "code",
   "execution_count": null,
   "id": "506a797d",
   "metadata": {},
   "outputs": [],
   "source": []
  },
  {
   "cell_type": "code",
   "execution_count": null,
   "id": "6f943c12",
   "metadata": {},
   "outputs": [],
   "source": []
  },
  {
   "cell_type": "code",
   "execution_count": null,
   "id": "4755ccb3",
   "metadata": {},
   "outputs": [],
   "source": []
  }
 ],
 "metadata": {
  "kernelspec": {
   "display_name": "Python 3 (ipykernel)",
   "language": "python",
   "name": "python3"
  },
  "language_info": {
   "codemirror_mode": {
    "name": "ipython",
    "version": 3
   },
   "file_extension": ".py",
   "mimetype": "text/x-python",
   "name": "python",
   "nbconvert_exporter": "python",
   "pygments_lexer": "ipython3",
   "version": "3.9.12"
  }
 },
 "nbformat": 4,
 "nbformat_minor": 5
}
