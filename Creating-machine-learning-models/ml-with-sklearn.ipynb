{
 "cells": [
  {
   "cell_type": "markdown",
   "id": "6c0e9f5b",
   "metadata": {},
   "source": [
    "# Why Scikit Learn\n",
    "- Buld on NumPy and Matplotlib (and python)\n",
    "- Has many in-built machine learning models\n",
    "- Methods to evaluate your machine learning models\n",
    "- Very well-designed API"
   ]
  },
  {
   "cell_type": "markdown",
   "id": "e6824456",
   "metadata": {},
   "source": [
    "# Links\n",
    "[Sklearn Cheatsheet](https://github.com/mrdbourke/zero-to-mastery-ml/blob/master/section-2-data-science-and-ml-tools/scikit-learn-what-were-covering.ipynb)\n",
    "\n",
    "[A Quick Machine Learning Modelling Tutorial with Python and Scikit-Learn](https://github.com/mrdbourke/zero-to-mastery-ml/blob/master/section-2-data-science-and-ml-tools/introduction-to-scikit-learn.ipynb)\n",
    "\n",
    "[Introduction to Scikit-Learn (sklearn)](https://github.com/mrdbourke/zero-to-mastery-ml/blob/master/section-2-data-science-and-ml-tools/introduction-to-scikit-learn-video.ipynb)\n",
    "\n",
    "[A Simple Scikit-Learn Classification Workflow\n",
    "](https://github.com/mrdbourke/zero-to-mastery-ml/blob/master/section-2-data-science-and-ml-tools/scikit-learn-workflow-example.ipynb)"
   ]
  },
  {
   "cell_type": "markdown",
   "id": "0fa488ab",
   "metadata": {},
   "source": [
    "# Concepts to be covered\n",
    "- An end-to-end Scikit-learn workflow\n",
    "- Getting data ready (to be used with machine learning models)\n",
    "- Chosing a machine learning model\n",
    "- Fitting a model to the data (learning patterns)\n",
    "- Making predictions with a model (using patterns)\n",
    "- Evaluating model predictions\n",
    "- Improving model predictions\n",
    "- Saving and loading models"
   ]
  },
  {
   "cell_type": "markdown",
   "id": "144a1581",
   "metadata": {},
   "source": [
    "## Scikit Learn Workflow\n",
    "1. Get data ready\n",
    "2. Pick a model (to suite your problem)\n",
    "3. fit the model to the data and make a prediction\n",
    "4. Evaluate the model\n",
    "5. Improve through experimentation \n",
    "6. Save and reload your trained model"
   ]
  },
  {
   "cell_type": "code",
   "execution_count": null,
   "id": "5fb9d0c7",
   "metadata": {},
   "outputs": [],
   "source": []
  }
 ],
 "metadata": {
  "kernelspec": {
   "display_name": "Python 3 (ipykernel)",
   "language": "python",
   "name": "python3"
  },
  "language_info": {
   "codemirror_mode": {
    "name": "ipython",
    "version": 3
   },
   "file_extension": ".py",
   "mimetype": "text/x-python",
   "name": "python",
   "nbconvert_exporter": "python",
   "pygments_lexer": "ipython3",
   "version": "3.9.12"
  }
 },
 "nbformat": 4,
 "nbformat_minor": 5
}
