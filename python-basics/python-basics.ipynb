{
 "cells": [
  {
   "cell_type": "code",
   "execution_count": 1,
   "id": "b09cfed5",
   "metadata": {},
   "outputs": [
    {
     "name": "stdout",
     "output_type": "stream",
     "text": [
      "--- 0.00012111663818359375 seconds ---\n"
     ]
    }
   ],
   "source": [
    "# How to check the time taken to run a function\n",
    "import time\n",
    "start_time = time.time()\n",
    "# Function\n",
    "# for i in range(0,100000):\n",
    "#     count=0\n",
    "print(\"--- %s seconds ---\" % (time.time() - start_time))"
   ]
  },
  {
   "cell_type": "markdown",
   "id": "bfcdca2e",
   "metadata": {},
   "source": [
    "# How to chenge teams\n",
    "[Chang](https://medium.com/@ichriste/anaconda-notebooke-themes-night-mode-f9350e13ccf)"
   ]
  },
  {
   "cell_type": "markdown",
   "id": "a1d21c33",
   "metadata": {},
   "source": [
    "# Our First Python Program"
   ]
  },
  {
   "cell_type": "code",
   "execution_count": 2,
   "id": "a7d5473a",
   "metadata": {},
   "outputs": [
    {
     "name": "stdout",
     "output_type": "stream",
     "text": [
      "Hello world\n"
     ]
    }
   ],
   "source": [
    "# Output of image\n",
    "print(\"Hello world\")"
   ]
  },
  {
   "cell_type": "code",
   "execution_count": 3,
   "id": "b7e26cba",
   "metadata": {},
   "outputs": [
    {
     "name": "stdout",
     "output_type": "stream",
     "text": [
      "Enter your name:-t\n",
      "t\n"
     ]
    }
   ],
   "source": [
    "# Getting input from user\n",
    "a = input(\"Enter your name:-\")\n",
    "print(a)"
   ]
  },
  {
   "cell_type": "code",
   "execution_count": 4,
   "id": "f22a789c",
   "metadata": {},
   "outputs": [
    {
     "name": "stdout",
     "output_type": "stream",
     "text": [
      "hello t\n"
     ]
    }
   ],
   "source": [
    "# Concatinating string\n",
    "print(\"hello \"+a)"
   ]
  },
  {
   "cell_type": "code",
   "execution_count": 5,
   "id": "17788587",
   "metadata": {},
   "outputs": [
    {
     "name": "stdout",
     "output_type": "stream",
     "text": [
      "My name is hariprasad and my age is 22\n"
     ]
    }
   ],
   "source": [
    "# Using F string\n",
    "name = \"hariprasad\"\n",
    "age = 22\n",
    "print(f\"My name is {name} and my age is {age}\")"
   ]
  },
  {
   "cell_type": "markdown",
   "id": "d64d9075",
   "metadata": {},
   "source": [
    "# Python data types\n",
    "- int\n",
    "- gloat\n",
    "- bool\n",
    "- str\n",
    "- list\n",
    "- tuple\n",
    "- set \n",
    "- dict\n",
    "- None"
   ]
  },
  {
   "cell_type": "code",
   "execution_count": 6,
   "id": "31599283",
   "metadata": {},
   "outputs": [],
   "source": [
    "# Classes -> Custom types"
   ]
  },
  {
   "cell_type": "code",
   "execution_count": 7,
   "id": "70917105",
   "metadata": {},
   "outputs": [],
   "source": [
    "# Sepcialized Data Types"
   ]
  },
  {
   "cell_type": "markdown",
   "id": "c8ce0c3b",
   "metadata": {},
   "source": [
    "# Numbers in Python"
   ]
  },
  {
   "cell_type": "code",
   "execution_count": 8,
   "id": "b882536c",
   "metadata": {},
   "outputs": [
    {
     "name": "stdout",
     "output_type": "stream",
     "text": [
      "<class 'int'>\n",
      "<class 'int'>\n",
      "<class 'int'>\n",
      "<class 'float'>\n"
     ]
    }
   ],
   "source": [
    "# Integer data type\n",
    "print(type(2+4))\n",
    "print(type(2-4))\n",
    "print(type(2*4))\n",
    "print(type(4/2))"
   ]
  },
  {
   "cell_type": "code",
   "execution_count": 9,
   "id": "d5d1658d",
   "metadata": {},
   "outputs": [
    {
     "name": "stdout",
     "output_type": "stream",
     "text": [
      "<class 'float'>\n",
      "1.25\n",
      "1\n",
      "2\n"
     ]
    }
   ],
   "source": [
    "# type conversion in python\n",
    "print(type(9+1.1))\n",
    "print(5/4)\n",
    "print(5 // 4)\n",
    "print(6%4)"
   ]
  },
  {
   "cell_type": "code",
   "execution_count": 10,
   "id": "f20ab7b9",
   "metadata": {},
   "outputs": [
    {
     "data": {
      "text/plain": [
       "10.12"
      ]
     },
     "execution_count": 10,
     "metadata": {},
     "output_type": "execute_result"
    }
   ],
   "source": [
    "round(10.123345,2)"
   ]
  },
  {
   "cell_type": "code",
   "execution_count": 11,
   "id": "d038f714",
   "metadata": {},
   "outputs": [
    {
     "data": {
      "text/plain": [
       "10"
      ]
     },
     "execution_count": 11,
     "metadata": {},
     "output_type": "execute_result"
    }
   ],
   "source": [
    "abs(-10)"
   ]
  },
  {
   "cell_type": "markdown",
   "id": "8fd40570",
   "metadata": {},
   "source": [
    "# Operator Precedence\n",
    "\n",
    "1. ()\n",
    "2. **\n",
    "3. /\n",
    "4. *\n",
    "5. +\n",
    "6. -"
   ]
  },
  {
   "cell_type": "code",
   "execution_count": 12,
   "id": "6084b935",
   "metadata": {},
   "outputs": [
    {
     "data": {
      "text/plain": [
       "32"
      ]
     },
     "execution_count": 12,
     "metadata": {},
     "output_type": "execute_result"
    }
   ],
   "source": [
    "20+3*4"
   ]
  },
  {
   "cell_type": "code",
   "execution_count": 13,
   "id": "db47a447",
   "metadata": {},
   "outputs": [
    {
     "data": {
      "text/plain": [
       "8"
      ]
     },
     "execution_count": 13,
     "metadata": {},
     "output_type": "execute_result"
    }
   ],
   "source": [
    "20-3*4"
   ]
  },
  {
   "cell_type": "code",
   "execution_count": 14,
   "id": "d88b8e3d",
   "metadata": {},
   "outputs": [
    {
     "name": "stdout",
     "output_type": "stream",
     "text": [
      "45.0\n",
      "45.0\n",
      "45.0\n",
      "25.0\n",
      "25\n"
     ]
    }
   ],
   "source": [
    "# Exercise on operator preidence\n",
    "print((5 + 4) * 10 / 2)\n",
    "# 45\n",
    "print(((5 + 4) * 10) / 2)\n",
    "# 45\n",
    "print((5 + 4) * (10 / 2))\n",
    "# 45\n",
    "print(5 + (4 * 10) / 2)\n",
    "# 25\n",
    "print(5 + 4 * 10 // 2)\n",
    "# 25"
   ]
  },
  {
   "cell_type": "markdown",
   "id": "e4194d28",
   "metadata": {},
   "source": [
    "# bin and complex data type"
   ]
  },
  {
   "cell_type": "code",
   "execution_count": 15,
   "id": "e3812710",
   "metadata": {},
   "outputs": [
    {
     "name": "stdout",
     "output_type": "stream",
     "text": [
      "0b101\n",
      "0o14\n",
      "0xf\n",
      "2.0\n",
      "8.0\n",
      "(6+13j)\n"
     ]
    }
   ],
   "source": [
    "# Complex numbers are avilable in python \n",
    "print(bin(5))\n",
    "print(oct(12))\n",
    "print(hex(15))\n",
    "x = 2 +8j\n",
    "type(x)\n",
    "print(x.real)\n",
    "print(x.imag)\n",
    "print(x+complex(4,5))"
   ]
  },
  {
   "cell_type": "markdown",
   "id": "1b5541d9",
   "metadata": {},
   "source": [
    "# Variables in python"
   ]
  },
  {
   "cell_type": "code",
   "execution_count": 16,
   "id": "85882af5",
   "metadata": {},
   "outputs": [
    {
     "name": "stdout",
     "output_type": "stream",
     "text": [
      "190\n"
     ]
    }
   ],
   "source": [
    "iq = 190\n",
    "print(iq)"
   ]
  },
  {
   "cell_type": "markdown",
   "id": "50aa48e8",
   "metadata": {},
   "source": [
    "## Variables format in python\n",
    "- snake_case\n",
    "- Sraet with lowercase or underscore\n",
    "- Letters, numbers and underscores\n",
    "- Case sensitive\n",
    "- Don't overwrite keywords"
   ]
  },
  {
   "cell_type": "code",
   "execution_count": 17,
   "id": "4f67a3da",
   "metadata": {},
   "outputs": [],
   "source": [
    "PI = 3.14"
   ]
  },
  {
   "cell_type": "code",
   "execution_count": 19,
   "id": "40bdb8ac",
   "metadata": {},
   "outputs": [
    {
     "data": {
      "text/plain": [
       "3"
      ]
     },
     "execution_count": 19,
     "metadata": {},
     "output_type": "execute_result"
    }
   ],
   "source": [
    "int(PI)"
   ]
  },
  {
   "cell_type": "code",
   "execution_count": 20,
   "id": "7c7b7001",
   "metadata": {},
   "outputs": [],
   "source": [
    "# Expressions vs Statements"
   ]
  },
  {
   "cell_type": "code",
   "execution_count": 21,
   "id": "2c3dbab7",
   "metadata": {},
   "outputs": [],
   "source": [
    "iq = 100\n",
    "user_age = iq/5"
   ]
  },
  {
   "cell_type": "code",
   "execution_count": 22,
   "id": "54816807",
   "metadata": {},
   "outputs": [],
   "source": [
    "# Augmented assignment operator\n",
    "some_value = 5\n",
    "some_value = some_value + 2"
   ]
  },
  {
   "cell_type": "code",
   "execution_count": 23,
   "id": "d1d63b61",
   "metadata": {},
   "outputs": [
    {
     "name": "stdout",
     "output_type": "stream",
     "text": [
      "7\n"
     ]
    }
   ],
   "source": [
    "print(some_value)"
   ]
  },
  {
   "cell_type": "code",
   "execution_count": 24,
   "id": "92945c32",
   "metadata": {},
   "outputs": [
    {
     "data": {
      "text/plain": [
       "str"
      ]
     },
     "execution_count": 24,
     "metadata": {},
     "output_type": "execute_result"
    }
   ],
   "source": [
    "type(\"hi hello there 24!\")"
   ]
  },
  {
   "cell_type": "code",
   "execution_count": 26,
   "id": "ed70e341",
   "metadata": {},
   "outputs": [
    {
     "name": "stdout",
     "output_type": "stream",
     "text": [
      "\n",
      "This is a string\n",
      "This is a value 7\n",
      "This is another value\n",
      "\n"
     ]
    }
   ],
   "source": [
    "long_string = f'''\n",
    "This is a string\n",
    "This is a value {some_value}\n",
    "This is another value\n",
    "'''\n",
    "print(long_string)"
   ]
  },
  {
   "cell_type": "markdown",
   "id": "2761d41e",
   "metadata": {},
   "source": [
    "### String concatination"
   ]
  },
  {
   "cell_type": "code",
   "execution_count": 28,
   "id": "61ac9657",
   "metadata": {},
   "outputs": [],
   "source": [
    "# print(\"Hello\"+5) "
   ]
  },
  {
   "cell_type": "code",
   "execution_count": null,
   "id": "8e43ef43",
   "metadata": {},
   "outputs": [],
   "source": []
  }
 ],
 "metadata": {
  "kernelspec": {
   "display_name": "Python 3 (ipykernel)",
   "language": "python",
   "name": "python3"
  },
  "language_info": {
   "codemirror_mode": {
    "name": "ipython",
    "version": 3
   },
   "file_extension": ".py",
   "mimetype": "text/x-python",
   "name": "python",
   "nbconvert_exporter": "python",
   "pygments_lexer": "ipython3",
   "version": "3.9.12"
  }
 },
 "nbformat": 4,
 "nbformat_minor": 5
}
